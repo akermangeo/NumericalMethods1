{
 "cells": [
  {
   "cell_type": "code",
   "execution_count": null,
   "metadata": {},
   "outputs": [],
   "source": [
    "from matplotlib import pyplot as plt"
   ]
  },
  {
   "cell_type": "code",
   "execution_count": null,
   "metadata": {},
   "outputs": [],
   "source": [
    "\n",
    "plt.plot(list(range(7)) + list(range(5,3,-1)), '--bo', label='Evolution of k')\n",
    "plt.xlabel(\"time step n\")\n",
    "plt.ylabel(\"k - n\")\n",
    "plt.annotate(\"(k - n = 4)\", (8, 4), xytext=(7,3.5))\n",
    "plt.annotate(\"floor(k/2) = 6)\", (8, 4), xytext=(3.7,6))\n",
    "plt.legend()"
   ]
  },
  {
   "cell_type": "code",
   "execution_count": null,
   "metadata": {},
   "outputs": [],
   "source": []
  }
 ],
 "metadata": {
  "interpreter": {
   "hash": "05e5263a5b3128ff67a7c8b075ff25752474a0d33381b4218d5af07966bbb998"
  },
  "kernelspec": {
   "display_name": "Python 3.8.8 ('base')",
   "language": "python",
   "name": "python3"
  },
  "language_info": {
   "name": "python",
   "version": "3.8.8"
  },
  "orig_nbformat": 4
 },
 "nbformat": 4,
 "nbformat_minor": 2
}
