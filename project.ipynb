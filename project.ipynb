{
  "nbformat": 4,
  "nbformat_minor": 0,
  "metadata": {
    "colab": {
      "name": "Copy of MATH97110: AsianOptionFSG.ipynb",
      "provenance": [],
      "collapsed_sections": [],
      "machine_shape": "hm"
    },
    "kernelspec": {
      "name": "python3",
      "display_name": "Python 3"
    }
  },
  "cells": [
    {
      "cell_type": "markdown",
      "metadata": {
        "id": "hCFJKy4emIKu"
      },
      "source": [
        "**Implementation of the forward shooting grid method for pricing Asian option**\r\n",
        "\r\n",
        "In this notebook, we will follow the steps described in Week 2 of the Lecture Notes to implement the binomial tree pricing for Asian options."
      ]
    },
    {
      "cell_type": "markdown",
      "metadata": {
        "id": "tXwv9u-Qmq0s"
      },
      "source": [
        "*Step 1: fix the tree model of stock price*\r\n",
        "\r\n",
        "Our model of choice is a binomial tree under CRR specification. This is implemented as below."
      ]
    },
    {
      "cell_type": "code",
      "metadata": {
        "id": "PKzi3ccDm52Z"
      },
      "source": [
        "import numpy as np\r\n",
        "\r\n",
        "def BinomialTreeCRR(r, dt, sigma, s0, N):\r\n",
        "    \r\n",
        "    # CRR parameters\r\n",
        "    u = np.exp(sigma * np.sqrt(dt))\r\n",
        "    d=1/u\r\n",
        "    R = np.exp(r * dt)\r\n",
        "    qu = (R - d) / (u - d)\r\n",
        "    qd = 1-qu\r\n",
        "\r\n",
        "    # Set up the tree via S[k,n] = s0 * u^(n-k) * d^k\r\n",
        "    S = np.zeros((N+1, N+1))\r\n",
        "    for t in range(N+1):\r\n",
        "        S[0:t+1, t] = s0 * u**np.arange(t, -1, -1) * d**np.arange(0, t+1)\r\n",
        "\r\n",
        "    return S, u, d, qu, qd, R"
      ],
      "execution_count": 26,
      "outputs": []
    },
    {
      "cell_type": "markdown",
      "metadata": {
        "id": "xG8_uFfYnHVk"
      },
      "source": [
        "*Step 2: pick an auxiliary variable*\r\n",
        "\r\n",
        "We will choose $A_n=\\frac{1}{n+1}S_n$, the running average up to time $n$, to be our auxiliary process. In the programming, we can keep the payoff function to be generic as something in form of $g(S_N,A_N)$, and then we pass the whole payoff function to the pricing algorithm."
      ]
    },
    {
      "cell_type": "markdown",
      "metadata": {
        "id": "8Hgj49gzoMTG"
      },
      "source": [
        "*Step 3: Specify a grid of values for the auxiliary variable $A_n$*\r\n",
        "\r\n",
        "We follow the procedures in the Lecture Notes (page 20-21) to construct a matrix which contains the values $a_j^n$."
      ]
    },
    {
      "cell_type": "code",
      "metadata": {
        "id": "WhXvhlgYogKK"
      },
      "source": [
        "def CreateGridA(u, d, rho, N):\r\n",
        "\r\n",
        "    # the array of J_min^n, J_max^n\r\n",
        "    JMax = np.zeros(N+1)\r\n",
        "    JMin = np.zeros(N+1)\r\n",
        "\r\n",
        "    # Set each value of J_min^n and J_max^n inductively\r\n",
        "    for n in range(1,N+1):\r\n",
        "        JMax[n] = int(np.ceil(np.log((n*u**(rho*JMax[n-1]) + u**n) / (n+1)) / (rho*np.log(u))))\r\n",
        "        JMin[n] = int(np.ceil(-1*np.log((n*u**(-1*rho*JMin[n-1]) + d**n) / (n+1)) / (rho*np.log(u))))\r\n",
        "\r\n",
        "    # Force the types of variables inside the Jmin Jmax vectors be integers\r\n",
        "    # (it should have already been done in the previous lines but my code is still complaining about the variable type...)\r\n",
        "    JMax = JMax.astype(int)\r\n",
        "    JMin = JMin.astype(int)\r\n",
        "\r\n",
        "    avgSize = JMax[N] + JMin[N] + 1 # maximum number of grid points along the average value dimension\r\n",
        "    \r\n",
        "    # fill in the values of the grid a_j^n\r\n",
        "    avg = np.zeros((avgSize, N+1))\r\n",
        "    for n in range(N+1):\r\n",
        "        j_range = np.arange(-1 * JMin[n] , JMax[n] + 1) #can't use negative index in programming so need to shift the index j via J_max^N - j to ensure the index starts from 0\r\n",
        "        avg[JMax[N] - j_range, n] = s0 * u**(rho * j_range) \r\n",
        "\r\n",
        "    return avg, JMax, JMin, avgSize"
      ],
      "execution_count": 27,
      "outputs": []
    },
    {
      "cell_type": "markdown",
      "metadata": {
        "id": "Z615Hoq9tuB1"
      },
      "source": [
        "*Step 4: implementation of the backward induction*"
      ]
    },
    {
      "cell_type": "code",
      "metadata": {
        "id": "6TAENPU7L_ie"
      },
      "source": [
        "def AsianOptionPricing(s0, r, dt, sigma, N, rho, payoff):\n",
        "               \n",
        "    S, u, d, qu, qd, R = BinomialTreeCRR(r, dt, sigma, s0, N)\n",
        "    avg, JMax, JMin, avgSize = CreateGridA(u, d, rho, N)\n",
        "            \n",
        "    # Option values matrix\n",
        "    OptPx = np.zeros((N+1, avgSize, N+1)) # stock px, avg, time \n",
        "    \n",
        "    # Terminal condition: option values given by terminal payoff\n",
        "    for k in range(N+1):\n",
        "        j_range = np.arange(-1 * JMin[N] , JMax[N] + 1)\n",
        "        OptPx[k,int(JMax[N]) - j_range,N] = payoff(S[k,N], avg[JMax[N] - j_range,N])\n",
        "            \n",
        "    # Backward induction\n",
        "\n",
        "    # Loop in time\n",
        "    for n in reversed(range(N)):\n",
        " \n",
        "        # Loop across each stock price index k\n",
        "        for k in range(n+1):\n",
        "            \n",
        "            j_range = np.arange(-1 * JMin[n] , JMax[n] + 1)\n",
        "            \n",
        "            proj_avg_up = ((n+1)*avg[JMax[N] - j_range,n] + S[k,n+1])/(n+2)   # projected new avg value when stock goes up\n",
        "            phi_up = np.log(proj_avg_up/s0) / (rho * np.log(u))               # the new index j obtained via shooting function (which is not integer)\n",
        "            phi_up_ceil = (np.ceil(phi_up)).astype(int)                       # ceiling of the integer\n",
        "            phi_up_floor = (np.floor(phi_up)).astype(int)                     # floor of the integer\n",
        "            alpha_up = (np.log(avg[JMax[N]-phi_up_ceil,n+1]) - np.log(proj_avg_up)) / (rho*np.log(u))   # weighting to be used in the linear interpolation\n",
        "            V_up = alpha_up * OptPx[k,JMax[N] - phi_up_floor,n+1] + (1 - alpha_up) *OptPx[k, JMax[N] - phi_up_ceil,n+1]  # apply interpolation to estimate the value of option in the upward case\n",
        "            \n",
        "            proj_avg_down = ((n+1)*avg[JMax[N] - j_range,n] + S[k+1,n+1])/(n+2)   # projected new avg value when stock goes down\n",
        "            phi_down = np.log(proj_avg_down/s0) / (rho * np.log(u))               # the new index j obtained via shooting function (which is not integer)\n",
        "            phi_down_ceil = (np.ceil(phi_down)).astype(int)                        # ceiling of the integer\n",
        "            phi_down_floor = (np.floor(phi_down)).astype(int)                      # floor of the integer\n",
        "            alpha_down = (np.log(avg[JMax[N]-phi_down_ceil,n+1]) - np.log(proj_avg_down)) / (rho*np.log(u))   # weighting to be used in the linear interpolation\n",
        "            V_down = alpha_down * OptPx[k+1,JMax[N] - phi_down_floor,n+1] + (1 - alpha_down) * OptPx[k+1, int(JMax[N]) - phi_down_ceil,n+1]   # apply interpolation to estimate the value of option in the downward case\n",
        "            \n",
        "            # the backward induction step\n",
        "            OptPx[k,int(JMax[N])-j_range,n] = (qu*V_up + (1-qu)*V_down) / R\n",
        "    \n",
        "    return S, avg, OptPx, OptPx[0,JMax[N],0] #the last component is the option value at time 0"
      ],
      "execution_count": 28,
      "outputs": []
    },
    {
      "cell_type": "markdown",
      "metadata": {
        "id": "XLV7_JhJu_Gj"
      },
      "source": [
        "*Finally let's implement the code and look at the numerical example in the Lecture Notes.*"
      ]
    },
    {
      "cell_type": "code",
      "metadata": {
        "colab": {
          "base_uri": "https://localhost:8080/"
        },
        "id": "Tt6lqppDvBcv",
        "outputId": "2e5a37c5-66f3-4881-a56f-9fb029147449"
      },
      "source": [
        "s0, r, T, sigma, strike = 100, 0.01, 1, 0.2, 100\r\n",
        "N, rho = 3, 0.5\r\n",
        "FixedStrikeAsianCall = lambda s,a: np.maximum(a-strike, 0) # payoff definition of a fixed strike asian call\r\n",
        "\r\n",
        "dt = T/N\r\n",
        "\r\n",
        "S, avg, OptPx, p = AsianOptionPricing(s0, r, dt, sigma, N, rho, FixedStrikeAsianCall)\r\n",
        "print(\"Fair price of the option is\", p)"
      ],
      "execution_count": 29,
      "outputs": [
        {
          "output_type": "stream",
          "text": [
            "Fair price of the option is 4.812606672662981\n"
          ],
          "name": "stdout"
        }
      ]
    }
  ]
}