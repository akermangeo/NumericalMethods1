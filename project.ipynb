{
  "cells": [
    {
      "cell_type": "markdown",
      "metadata": {
        "id": "hCFJKy4emIKu"
      },
      "source": [
        "**Numerical Methods Coursework 1**"
      ]
    },
    {
      "cell_type": "code",
      "execution_count": null,
      "metadata": {
        "id": "PKzi3ccDm52Z"
      },
      "outputs": [],
      "source": [
        "import numpy as np"
      ]
    },
    {
      "cell_type": "markdown",
      "metadata": {
        "id": "tXwv9u-Qmq0s"
      },
      "source": [
        "Firstly we implement the Kamrad-Ritchken model."
      ]
    },
    {
      "cell_type": "code",
      "execution_count": null,
      "metadata": {},
      "outputs": [],
      "source": [
        "\n",
        "class TrinomialTreeKamradRitchken():\n",
        "    def __init__(self, r, dt, sigma, s0, N, lamda):\n",
        "        #model parameters\n",
        "        self._dt = dt\n",
        "        self._r = r\n",
        "        self._u=np.exp(lamda*sigma*np.sqrt(dt))\n",
        "        self._qu = 1/2#1/(2*lamda**2) + ((r - sigma**2/2)*np.sqrt(dt))/2*lamda*sigma\n",
        "        self._qm = 1-1/lamda**2\n",
        "        self._qd = 1/2#1/(2*lamda**2) - ((r - sigma**2/2)*np.sqrt(dt))/2*lamda*sigma\n",
        "\n",
        "        if (self._qu < 0 or self._qd < 0):\n",
        "            print(\"The value of dt is too large and the probabilities will not be viable, please use a smaller value for dt.\")\n",
        "            return\n",
        "\n",
        "        # Set up the tree via S[k,n] = s0 * u^(2k-n)\n",
        "        self._prices = np.zeros((2*N+1, N+1))\n",
        "        for t in range(N+1):\n",
        "            self._prices[0:2*t+1, t] = s0 * self._u**np.arange(-t, t+1, 1)\n",
        "\n",
        "    def get_stock_price(self, n,k):\n",
        "        return self._prices[k,n]\n",
        "\n",
        "    def discount(self, x, number_of_periods = 1):\n",
        "        return x*np.exp(-1*self._r*self._dt*number_of_periods)\n",
        "\n",
        "    def get_u(self):\n",
        "        return self._u\n",
        "\n",
        "    def get_probabilities(self):\n",
        "        return np.array([self._qd, self._qm, self._qu])\n",
        "        "
      ]
    },
    {
      "cell_type": "markdown",
      "metadata": {},
      "source": [
        "We create an array of prices for $A^n_j$ noticing that these prices have no dependence on $n$."
      ]
    },
    {
      "cell_type": "code",
      "execution_count": null,
      "metadata": {
        "id": "WhXvhlgYogKK"
      },
      "outputs": [],
      "source": [
        "def create_auxillary_values(s0, N, u):\n",
        "    indices = np.arange(0,N+1)\n",
        "    AValues = s0*u**indices\n",
        "    return AValues"
      ]
    },
    {
      "cell_type": "markdown",
      "metadata": {
        "id": "Z615Hoq9tuB1"
      },
      "source": [
        "Next we define the funtion for generating the prices by backward induction"
      ]
    },
    {
      "cell_type": "code",
      "execution_count": null,
      "metadata": {
        "id": "6TAENPU7L_ie"
      },
      "outputs": [],
      "source": [
        "def generate_lookback_prices(s0, r, dt, sigma, N, lamda, american = False):\n",
        "               \n",
        "    model = TrinomialTreeKamradRitchken(r, dt, sigma, s0, N, lamda)\n",
        "    u = model.get_u()\n",
        "    auxillary_values = create_auxillary_values(s0, N, u)\n",
        "            \n",
        "    # Option values matrix indexed by time, k, j\n",
        "    option_values = np.zeros([N+1, 2*N+1, N+1])\n",
        "\n",
        "    # Terminal condition: option values given by terminal payoff\n",
        "    for k in range(2*N+1):\n",
        "        stock_price = model.get_stock_price(N,k)\n",
        "        option_values[N, k, :] = auxillary_values - stock_price\n",
        "            \n",
        "    # Backward induction\n",
        "\n",
        "    probabilities = model.get_probabilities()\n",
        "\n",
        "    # Loop in time\n",
        "    for n in reversed(range(N)):\n",
        "        \n",
        "        \n",
        "        #generate the possible values of k_new indexed by current k, stock movement where for the stock movement 0 is down, 1 is no movement, 2 is up.\n",
        "        k_new = np.column_stack([np.arange(0, 2*n+1), np.arange(1,2*n+2), np.arange(2,2*n+3)])\n",
        "\n",
        "        j_range = np.arange(0,n+1)\n",
        "\n",
        "        #Use the shooting function to generate the possible values of jnew indexed by current k, current j, stock movement where for the stock movement 0 is down, 1 is no movement, 2 is up.\n",
        "        phi_result = np.maximum(j_range[np.newaxis,:,np.newaxis], k_new[:,np.newaxis,:] -n -1)\n",
        "\n",
        "        #calculate the option prices using backward induction\n",
        "        \n",
        "        #restrict the option_values to just legal values of k at time n+1\n",
        "        option_values_restricted = option_values[n+1, 0:phi_result.shape[0], :]\n",
        "\n",
        "        current_time_values = (probabilities * np.take_along_axis(option_values_restricted[:,:,np.newaxis], phi_result, axis = 1)).sum(axis=2)\n",
        "        \n",
        "        option_values[n][0:2*n+1,0:n+1] =  model.discount(current_time_values)\n",
        "\n",
        "\n",
        "            \n",
        "    \n",
        "    return option_values"
      ]
    },
    {
      "cell_type": "markdown",
      "metadata": {
        "id": "XLV7_JhJu_Gj"
      },
      "source": [
        "*Finally let's run the code to obtain the price"
      ]
    },
    {
      "cell_type": "code",
      "execution_count": null,
      "metadata": {
        "colab": {
          "base_uri": "https://localhost:8080/"
        },
        "id": "Tt6lqppDvBcv",
        "outputId": "2e5a37c5-66f3-4881-a56f-9fb029147449"
      },
      "outputs": [],
      "source": [
        "s0 = 100\n",
        "r = 0\n",
        "dt = 1\n",
        "sigma = 0.1\n",
        "N = 2\n",
        "lamda = 1\n",
        "generate_lookback_prices(s0, r, dt, sigma, N, lamda, american=False)"
      ]
    }
  ],
  "metadata": {
    "colab": {
      "collapsed_sections": [],
      "machine_shape": "hm",
      "name": "Copy of MATH97110: AsianOptionFSG.ipynb",
      "provenance": []
    },
    "kernelspec": {
      "display_name": "Python 3",
      "name": "python3"
    },
    "language_info": {
      "codemirror_mode": {
        "name": "ipython",
        "version": 3
      },
      "file_extension": ".py",
      "mimetype": "text/x-python",
      "name": "python",
      "nbconvert_exporter": "python",
      "pygments_lexer": "ipython3",
      "version": "3.8.8"
    }
  },
  "nbformat": 4,
  "nbformat_minor": 0
}
