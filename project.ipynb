{
  "cells": [
    {
      "cell_type": "markdown",
      "metadata": {
        "id": "hCFJKy4emIKu"
      },
      "source": [
        "**Numerical Methods Coursework 1**"
      ]
    },
    {
      "cell_type": "code",
      "execution_count": 1,
      "metadata": {
        "id": "PKzi3ccDm52Z"
      },
      "outputs": [],
      "source": [
        "import numpy as np"
      ]
    },
    {
      "cell_type": "markdown",
      "metadata": {
        "id": "tXwv9u-Qmq0s"
      },
      "source": [
        "Firstly we implement the Kamrad-Ritchken model."
      ]
    },
    {
      "cell_type": "code",
      "execution_count": 7,
      "metadata": {},
      "outputs": [],
      "source": [
        "\n",
        "class TrinomialTreeKamradRitchken():\n",
        "    def __init__(r, dt, sigma, s0, N, lamda):\n",
        "        # CRR parameters\n",
        "        self._dt = dt\n",
        "        self._r = r\n",
        "        self._u=np.exp(lamda*sigma*np.sqrt(dt))\n",
        "        self._qu = 1/(2*lamda**2) + ((r - sigma**2/2)*np.sqrt(dt))/2*lamda*sigma\n",
        "        self._qm = 1-1/lamda**2\n",
        "        self._qd = 1/(2*lamda**2) - ((r - sigma**2/2)*np.sqrt(dt))/2*lamda*sigma\n",
        "\n",
        "        if (self._qu < 0 or self._qd < 0):\n",
        "            print(\"The value of dt is too large and the probabilities will not be viable, please use a smaller value for dt.\")\n",
        "\n",
        "        # Set up the tree via S[k,n] = s0 * u^(2k-n)\n",
        "        self._prices = np.zeros((N+1, N+1))\n",
        "        for t in range(N+1):\n",
        "            self._prices[0:2*t, t] = s0 * u**np.arange(-t, t, 1)\n",
        "\n",
        "    def get_stock_price(n,k):\n",
        "        return self._prices[k,n]\n",
        "\n",
        "    def discount(x, number_of_periods):\n",
        "        return x*np.exp(-1*self._r*self._dt*number_of_periods)"
      ]
    },
    {
      "cell_type": "markdown",
      "metadata": {},
      "source": [
        "everything from here below is unchanged from the exercise sheet."
      ]
    },
    {
      "cell_type": "markdown",
      "metadata": {
        "id": "xG8_uFfYnHVk"
      },
      "source": [
        "*Step 2: pick an auxiliary variable*\n",
        "\n",
        "We will choose $A_n=\\frac{1}{n+1}S_n$, the running average up to time $n$, to be our auxiliary process. In the programming, we can keep the payoff function to be generic as something in form of $g(S_N,A_N)$, and then we pass the whole payoff function to the pricing algorithm."
      ]
    },
    {
      "cell_type": "markdown",
      "metadata": {
        "id": "8Hgj49gzoMTG"
      },
      "source": [
        "*Step 3: Specify a grid of values for the auxiliary variable $A_n$*\n",
        "\n",
        "We follow the procedures in the Lecture Notes (page 20-21) to construct a matrix which contains the values $a_j^n$."
      ]
    },
    {
      "cell_type": "code",
      "execution_count": 2,
      "metadata": {
        "id": "WhXvhlgYogKK"
      },
      "outputs": [],
      "source": [
        "def CreateGridA(u, d, rho, N):\n",
        "\n",
        "    # the array of J_min^n, J_max^n\n",
        "    JMax = np.zeros(N+1)\n",
        "    JMin = np.zeros(N+1)\n",
        "\n",
        "    # Set each value of J_min^n and J_max^n inductively\n",
        "    for n in range(1,N+1):\n",
        "        JMax[n] = int(np.ceil(np.log((n*u**(rho*JMax[n-1]) + u**n) / (n+1)) / (rho*np.log(u))))\n",
        "        JMin[n] = int(np.ceil(-1*np.log((n*u**(-1*rho*JMin[n-1]) + d**n) / (n+1)) / (rho*np.log(u))))\n",
        "\n",
        "    # Force the types of variables inside the Jmin Jmax vectors be integers\n",
        "    # (it should have already been done in the previous lines but my code is still complaining about the variable type...)\n",
        "    JMax = JMax.astype(int)\n",
        "    JMin = JMin.astype(int)\n",
        "\n",
        "    avgSize = JMax[N] + JMin[N] + 1 # maximum number of grid points along the average value dimension\n",
        "    \n",
        "    # fill in the values of the grid a_j^n\n",
        "    avg = np.zeros((avgSize, N+1))\n",
        "    for n in range(N+1):\n",
        "        j_range = np.arange(-1 * JMin[n] , JMax[n] + 1) #can't use negative index in programming so need to shift the index j via J_max^N - j to ensure the index starts from 0\n",
        "        avg[JMax[N] - j_range, n] = s0 * u**(rho * j_range) \n",
        "\n",
        "    return avg, JMax, JMin, avgSize"
      ]
    },
    {
      "cell_type": "markdown",
      "metadata": {
        "id": "Z615Hoq9tuB1"
      },
      "source": [
        "*Step 4: implementation of the backward induction*"
      ]
    },
    {
      "cell_type": "code",
      "execution_count": 3,
      "metadata": {
        "id": "6TAENPU7L_ie"
      },
      "outputs": [],
      "source": [
        "def AsianOptionPricing(s0, r, dt, sigma, N, rho, payoff):\n",
        "               \n",
        "    S, u, d, qu, qd, R = BinomialTreeCRR(r, dt, sigma, s0, N)\n",
        "    avg, JMax, JMin, avgSize = CreateGridA(u, d, rho, N)\n",
        "            \n",
        "    # Option values matrix\n",
        "    OptPx = np.zeros((N+1, avgSize, N+1)) # stock px, avg, time \n",
        "    \n",
        "    # Terminal condition: option values given by terminal payoff\n",
        "    for k in range(N+1):\n",
        "        j_range = np.arange(-1 * JMin[N] , JMax[N] + 1)\n",
        "        OptPx[k,int(JMax[N]) - j_range,N] = payoff(S[k,N], avg[JMax[N] - j_range,N])\n",
        "            \n",
        "    # Backward induction\n",
        "\n",
        "    # Loop in time\n",
        "    for n in reversed(range(N)):\n",
        " \n",
        "        # Loop across each stock price index k\n",
        "        for k in range(n+1):\n",
        "            \n",
        "            j_range = np.arange(-1 * JMin[n] , JMax[n] + 1)\n",
        "            \n",
        "            proj_avg_up = ((n+1)*avg[JMax[N] - j_range,n] + S[k,n+1])/(n+2)   # projected new avg value when stock goes up\n",
        "            phi_up = np.log(proj_avg_up/s0) / (rho * np.log(u))               # the new index j obtained via shooting function (which is not integer)\n",
        "            phi_up_ceil = (np.ceil(phi_up)).astype(int)                       # ceiling of the integer\n",
        "            phi_up_floor = (np.floor(phi_up)).astype(int)                     # floor of the integer\n",
        "            alpha_up = (np.log(avg[JMax[N]-phi_up_ceil,n+1]) - np.log(proj_avg_up)) / (rho*np.log(u))   # weighting to be used in the linear interpolation\n",
        "            V_up = alpha_up * OptPx[k,JMax[N] - phi_up_floor,n+1] + (1 - alpha_up) *OptPx[k, JMax[N] - phi_up_ceil,n+1]  # apply interpolation to estimate the value of option in the upward case\n",
        "            \n",
        "            proj_avg_down = ((n+1)*avg[JMax[N] - j_range,n] + S[k+1,n+1])/(n+2)   # projected new avg value when stock goes down\n",
        "            phi_down = np.log(proj_avg_down/s0) / (rho * np.log(u))               # the new index j obtained via shooting function (which is not integer)\n",
        "            phi_down_ceil = (np.ceil(phi_down)).astype(int)                        # ceiling of the integer\n",
        "            phi_down_floor = (np.floor(phi_down)).astype(int)                      # floor of the integer\n",
        "            alpha_down = (np.log(avg[JMax[N]-phi_down_ceil,n+1]) - np.log(proj_avg_down)) / (rho*np.log(u))   # weighting to be used in the linear interpolation\n",
        "            V_down = alpha_down * OptPx[k+1,JMax[N] - phi_down_floor,n+1] + (1 - alpha_down) * OptPx[k+1, int(JMax[N]) - phi_down_ceil,n+1]   # apply interpolation to estimate the value of option in the downward case\n",
        "            \n",
        "            # the backward induction step\n",
        "            OptPx[k,int(JMax[N])-j_range,n] = (qu*V_up + (1-qu)*V_down) / R\n",
        "    \n",
        "    return S, avg, OptPx, OptPx[0,JMax[N],0] #the last component is the option value at time 0"
      ]
    },
    {
      "cell_type": "markdown",
      "metadata": {
        "id": "XLV7_JhJu_Gj"
      },
      "source": [
        "*Finally let's implement the code and look at the numerical example in the Lecture Notes.*"
      ]
    },
    {
      "cell_type": "code",
      "execution_count": 12,
      "metadata": {
        "colab": {
          "base_uri": "https://localhost:8080/"
        },
        "id": "Tt6lqppDvBcv",
        "outputId": "2e5a37c5-66f3-4881-a56f-9fb029147449"
      },
      "outputs": [
        {
          "name": "stdout",
          "output_type": "stream",
          "text": [
            "Fair price of the option is 5.220130966346353\n"
          ]
        }
      ],
      "source": [
        "s0, r, T, sigma, strike = 100, 0.01, 1, 0.2, 100\n",
        "lamda = 1.5\n",
        "N, rho = 1, 0.5\n",
        "FixedStrikeAsianCall = lambda s,a: np.maximum(a-strike, 0) # payoff definition of a fixed strike asian call\n",
        "\n",
        "dt = T/N\n",
        "\n",
        "S, avg, OptPx, p = AsianOptionPricing(s0, r, dt, sigma, N, rho, FixedStrikeAsianCall)\n",
        "print(\"Fair price of the option is\", p)"
      ]
    }
  ],
  "metadata": {
    "colab": {
      "collapsed_sections": [],
      "machine_shape": "hm",
      "name": "Copy of MATH97110: AsianOptionFSG.ipynb",
      "provenance": []
    },
    "kernelspec": {
      "display_name": "Python 3",
      "name": "python3"
    },
    "language_info": {
      "codemirror_mode": {
        "name": "ipython",
        "version": 3
      },
      "file_extension": ".py",
      "mimetype": "text/x-python",
      "name": "python",
      "nbconvert_exporter": "python",
      "pygments_lexer": "ipython3",
      "version": "3.8.8"
    }
  },
  "nbformat": 4,
  "nbformat_minor": 0
}
