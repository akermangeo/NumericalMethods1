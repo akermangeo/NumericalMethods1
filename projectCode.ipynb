{
  "cells": [
    {
      "cell_type": "markdown",
      "metadata": {
        "id": "hCFJKy4emIKu"
      },
      "source": [
        "**Numerical Methods Coursework 1**"
      ]
    },
    {
      "cell_type": "code",
      "execution_count": null,
      "metadata": {
        "id": "PKzi3ccDm52Z"
      },
      "outputs": [],
      "source": [
        "import numpy as np\n",
        "import timeit"
      ]
    },
    {
      "cell_type": "markdown",
      "metadata": {
        "id": "tXwv9u-Qmq0s"
      },
      "source": [
        "Firstly we define the Kamrad-Ritchken model."
      ]
    },
    {
      "cell_type": "code",
      "execution_count": null,
      "metadata": {},
      "outputs": [],
      "source": [
        "\n",
        "def create_trinomial_model_kamrad_ritchken(s0, r, dt, sigma, N, lamda):\n",
        "    #model parameters\n",
        "    \n",
        "    u=np.exp(lamda*sigma*np.sqrt(dt))\n",
        "    qu = 1/(2*lamda**2) + ((r - sigma**2/2)*np.sqrt(dt))/(2*lamda*sigma)\n",
        "    qm = 1-1/lamda**2\n",
        "    qd = 1/(2*lamda**2) - ((r - sigma**2/2)*np.sqrt(dt))/(2*lamda*sigma)\n",
        "\n",
        "    if (qu < 0 or qd < 0):\n",
        "        print(\"The value of dt is too large and the probabilities will not be viable, please use a smaller value for dt.\")\n",
        "        return\n",
        "\n",
        "    # Set up the tree via S[n,k] = s0 * u^(k-n)\n",
        "    prices = np.zeros((N+1, 2*N+1))\n",
        "    for t in range(N+1):\n",
        "        prices[t, 0:2*t+1] = s0 * u**np.arange(-t, t+1, 1)\n",
        "\n",
        "    return (prices, np.array([qd, qm, qu]), u)\n",
        "\n",
        "    \n",
        "        "
      ]
    },
    {
      "cell_type": "markdown",
      "metadata": {},
      "source": [
        "We create an array of prices for $A^n_j$ noticing that these prices have no dependence on $n$."
      ]
    },
    {
      "cell_type": "code",
      "execution_count": null,
      "metadata": {
        "id": "WhXvhlgYogKK"
      },
      "outputs": [],
      "source": [
        "def create_auxillary_values(s0, N, u):\n",
        "    indices = np.arange(0,N+1)\n",
        "    AValues = s0*u**indices\n",
        "    return AValues"
      ]
    },
    {
      "cell_type": "markdown",
      "metadata": {
        "id": "Z615Hoq9tuB1"
      },
      "source": [
        "Next we define the funtion for generating the prices by backward induction"
      ]
    },
    {
      "cell_type": "code",
      "execution_count": null,
      "metadata": {
        "id": "6TAENPU7L_ie"
      },
      "outputs": [],
      "source": [
        "def generate_lookback_prices(s0, r, dt, sigma, N, lamda, american = False):\n",
        "    Nfloor_div_2 = N//2     \n",
        "    prices, probabilities, u = create_trinomial_model_kamrad_ritchken(s0, r, dt, sigma,  N, lamda)\n",
        "    auxillary_values = create_auxillary_values(s0, N, u)\n",
        "            \n",
        "    # Option values matrix indexed by time, k, j\n",
        "    option_values = np.zeros([N+1, 2*N+1, Nfloor_div_2+1])\n",
        "\n",
        "    # Terminal condition: option values given by terminal payoff\n",
        "\n",
        "    terminal_stock_price = prices[N]\n",
        "    k_range = np.arange(0,2*N + 1)\n",
        "    j_range = np.arange(0, Nfloor_div_2+1)\n",
        "\n",
        "    #find x such that A^N_{k,j} = S_0u**x indexed by k, j\n",
        "    #Note this can produce negative indexes, but these represent impossible situations\n",
        "    #so they will not impact any resulting prices.\n",
        "    auxiliary_variable_index = (k_range//2)[:,np.newaxis] - Nfloor_div_2 + j_range[np.newaxis, :]\n",
        "    option_values[N] = np.maximum(np.take_along_axis(auxillary_values[np.newaxis,:], auxiliary_variable_index, axis = 1) - terminal_stock_price[:,np.newaxis], np.zeros(1)[:,np.newaxis])\n",
        "    \n",
        "            \n",
        "    # Backward induction\n",
        "\n",
        "    # Loop in time\n",
        "    for n in reversed(range(N)):\n",
        "               \n",
        "        #generate the possible values of k_new indexed by current k, stock movement where for the stock movement 0 is down, 1 is no movement, 2 is up.\n",
        "        current_k = np.arange(0,2*n+1)\n",
        "        k_new = np.column_stack([current_k, current_k+1, current_k+2])\n",
        "        floor_k_new_div_2 = k_new//2\n",
        "        floor_k_div_2 = current_k//2\n",
        "        j_range = np.arange(0,Nfloor_div_2+1)\n",
        "        alpha = floor_k_div_2[:, np.newaxis, np.newaxis] + j_range[np.newaxis,:,np.newaxis]\n",
        "        beta = Nfloor_div_2 + k_new[:,np.newaxis, :] - n - 1\n",
        "\n",
        "        #Use the shooting function to generate the possible values of jnew indexed by current k, current j, stock movement where for the stock movement 0 is down, 1 is no movement, 2 is up.\n",
        "        phi_result = -1 * floor_k_new_div_2[:,np.newaxis, :] + np.maximum(alpha, beta)\n",
        "\n",
        "        #calculate the option prices using backward induction\n",
        "        continuation_values = (probabilities[0]* np.take_along_axis(option_values[n+1, 0:2*n + 1, :], phi_result[:,:,0], axis = 1) + probabilities[1]* np.take_along_axis(option_values[n+1, 1:2*n + 2, :], phi_result[:,:,1], axis = 1) + probabilities[2]* np.take_along_axis(option_values[n+1, 2:2*n + 3, :], phi_result[:,:,2], axis = 1))\n",
        "\n",
        "        if american:\n",
        "            j_range = np.arange(0, Nfloor_div_2+1)\n",
        "\n",
        "            #find x such that A^n_{k,j} = S_0u**x indexed again by k, j\n",
        "            auxiliary_variable_index = (np.floor(current_k/2)[:,np.newaxis] - Nfloor_div_2 + j_range[np.newaxis, :]).astype('int')\n",
        "            current_stock_price = prices[n]\n",
        "            exercise_values = np.maximum(np.take_along_axis(auxillary_values[np.newaxis,:], auxiliary_variable_index, axis = 1) - current_stock_price[0:2*n + 1,np.newaxis], np.zeros(1)[:,np.newaxis])\n",
        "            option_values[n][0:2*n+1,0:Nfloor_div_2+1] = np.maximum(exercise_values, np.exp(-1*r*dt)*continuation_values)\n",
        "        else:\n",
        "            option_values[n][0:2*n+1,0:Nfloor_div_2+1] =  np.exp(-1*r*dt)*continuation_values\n",
        "\n",
        "    #print the fair price for the initial time\n",
        "    print(option_values[0,0,Nfloor_div_2])\n",
        "    return option_values"
      ]
    },
    {
      "cell_type": "markdown",
      "metadata": {
        "id": "XLV7_JhJu_Gj"
      },
      "source": [
        "*Finally let's run the code to obtain the price"
      ]
    },
    {
      "cell_type": "code",
      "execution_count": null,
      "metadata": {},
      "outputs": [],
      "source": [
        "def AsianOptionPricing(s0, r, dt, sigma, N, lamda, american = False):\n",
        "    Ndiv2 = N//2\n",
        "    prices, probabilities, u = create_trinomial_model_kamrad_ritchken(s0, r, dt, sigma,  N, lamda)\n",
        "            \n",
        "    # Option values matrix\n",
        "    OptPx = np.zeros([N+1, 2*N+1, Ndiv2+1])\n",
        "    \n",
        "    \n",
        "    # Terminal condition: option values given by terminal payoff\n",
        "    for k in range(2*N+1):\n",
        "        j_range = np.arange(0, Ndiv2+1)\n",
        "        OptPx[N, k, j_range] = np.maximum(s0 * u **(k//2 -N//2 + j_range) - prices[N, k], 0)\n",
        "\n",
        "    for n in reversed(range(N)):\n",
        " \n",
        "        # Loop across each stock price index k\n",
        "        for k in range(2*n+1):\n",
        "            \n",
        "            j_range = np.arange(0, N//2+1)\n",
        "            \n",
        "            alpha = k//2 + j_range\n",
        "            phi_up = -1 *((k+2)//2) + np.maximum(alpha, N//2 + (k+2) - n - 1)  \n",
        "            phi_mid = -1 *((k+1)//2) + np.maximum(alpha, N//2 + (k+1) - n - 1)\n",
        "            phi_down = -1 * (k//2) + np.maximum(alpha, N//2 + k - n - 1)\n",
        "            \n",
        "            V_up = OptPx[n+1, k+2, phi_up]\n",
        "            V_mid = OptPx[n+1, k+1, phi_mid]\n",
        "            V_down = OptPx[n+1, k, phi_down]\n",
        "            \n",
        "            \n",
        "            \n",
        "            # the backward induction step\n",
        "\n",
        "            if american:\n",
        "                for k in range(2*n+1):\n",
        "                    j_range = np.arange(0, n+1)\n",
        "                    OptPx[N, k, j_range] = np.maximum(np.maximum(s0 * u **j_range - prices[n, k], 0), np.exp(-1*r*dt)*(probabilities[2]*V_up + probabilities[1]*V_mid + probabilities[0]*V_down))\n",
        "            else:\n",
        "                OptPx[n,k,j_range] = np.exp(-1*r*dt)*(probabilities[2]*V_up + probabilities[1]*V_mid + probabilities[0]*V_down)\n",
        "            \n",
        "    print(OptPx[0,0,N//2])\n",
        "    return OptPx"
      ]
    },
    {
      "cell_type": "code",
      "execution_count": null,
      "metadata": {
        "colab": {
          "base_uri": "https://localhost:8080/"
        },
        "id": "Tt6lqppDvBcv",
        "outputId": "2e5a37c5-66f3-4881-a56f-9fb029147449"
      },
      "outputs": [],
      "source": [
        "s0 = 100\n",
        "r = 0.1\n",
        "\n",
        "sigma = 0.1\n",
        "N = 500\n",
        "dt = 0.1\n",
        "lamda = 1.25\n"
      ]
    },
    {
      "cell_type": "code",
      "execution_count": null,
      "metadata": {},
      "outputs": [],
      "source": [
        "\n",
        "\n",
        "for i in range(10):\n",
        "    AsianOptionPricing(s0, r, dt, sigma, N, lamda, american=False)\n"
      ]
    },
    {
      "cell_type": "code",
      "execution_count": null,
      "metadata": {},
      "outputs": [],
      "source": [
        "for i in range(10):\n",
        "    generate_lookback_prices(s0, r, dt, sigma, N, lamda, american=False)"
      ]
    }
  ],
  "metadata": {
    "colab": {
      "collapsed_sections": [],
      "machine_shape": "hm",
      "name": "Copy of MATH97110: AsianOptionFSG.ipynb",
      "provenance": []
    },
    "kernelspec": {
      "display_name": "Python 3",
      "name": "python3"
    },
    "language_info": {
      "codemirror_mode": {
        "name": "ipython",
        "version": 3
      },
      "file_extension": ".py",
      "mimetype": "text/x-python",
      "name": "python",
      "nbconvert_exporter": "python",
      "pygments_lexer": "ipython3",
      "version": "3.8.8"
    }
  },
  "nbformat": 4,
  "nbformat_minor": 0
}
