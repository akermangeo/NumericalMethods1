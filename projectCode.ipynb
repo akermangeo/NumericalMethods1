{
  "cells": [
    {
      "cell_type": "markdown",
      "metadata": {
        "id": "hCFJKy4emIKu"
      },
      "source": [
        "**Numerical Methods Coursework 1**"
      ]
    },
    {
      "cell_type": "code",
      "execution_count": 35,
      "metadata": {
        "id": "PKzi3ccDm52Z"
      },
      "outputs": [],
      "source": [
        "import numpy as np\n",
        "import time\n",
        "import pandas as pd\n",
        "import matplotlib.pyplot as plt\n",
        "from scipy.optimize import curve_fit"
      ]
    },
    {
      "cell_type": "markdown",
      "metadata": {
        "id": "tXwv9u-Qmq0s"
      },
      "source": [
        "Firstly we define the Kamrad-Ritchken model."
      ]
    },
    {
      "cell_type": "code",
      "execution_count": 22,
      "metadata": {},
      "outputs": [],
      "source": [
        "\n",
        "def create_trinomial_model_kamrad_ritchken(s0, r, dt, sigma, N, lamda):\n",
        "    #model parameters\n",
        "    \n",
        "    u=np.exp(lamda*sigma*np.sqrt(dt))\n",
        "    qu = 1/(2*lamda**2) + ((r - sigma**2/2)*np.sqrt(dt))/(2*lamda*sigma)\n",
        "    qm = 1-1/lamda**2\n",
        "    qd = 1/(2*lamda**2) - ((r - sigma**2/2)*np.sqrt(dt))/(2*lamda*sigma)\n",
        "\n",
        "    if (qu < 0 or qd < 0):\n",
        "        print(\"The value of dt is too large and the probabilities will not be viable, please use a smaller value for dt.\")\n",
        "        return\n",
        "\n",
        "    # Set up the tree via S[n,k] = s0 * u^(k-n)\n",
        "    prices = np.zeros((N+1, 2*N+1))\n",
        "    for t in range(N+1):\n",
        "        prices[t, 0:2*t+1] = s0 * u**np.arange(-t, t+1, 1)\n",
        "\n",
        "    return (prices, np.array([qd, qm, qu]), u)\n",
        "\n",
        "    \n",
        "        "
      ]
    },
    {
      "cell_type": "markdown",
      "metadata": {},
      "source": [
        "We create an array of prices for $A^n_j$ noticing that these prices have no dependence on $n$."
      ]
    },
    {
      "cell_type": "code",
      "execution_count": 23,
      "metadata": {
        "id": "WhXvhlgYogKK"
      },
      "outputs": [],
      "source": [
        "def create_auxillary_values(s0, N, u):\n",
        "    indices = np.arange(0,N+1)\n",
        "    AValues = s0*u**indices\n",
        "    return AValues"
      ]
    },
    {
      "cell_type": "markdown",
      "metadata": {
        "id": "Z615Hoq9tuB1"
      },
      "source": [
        "Next we define the funtion for generating the prices by backward induction"
      ]
    },
    {
      "cell_type": "code",
      "execution_count": 24,
      "metadata": {
        "id": "6TAENPU7L_ie"
      },
      "outputs": [],
      "source": [
        "def generate_lookback_prices_optimized(s0, r, dt, sigma, N, lamda, american = False):\n",
        "    Nfloor_div_2 = N//2     \n",
        "    prices, probabilities, u = create_trinomial_model_kamrad_ritchken(s0, r, dt, sigma,  N, lamda)\n",
        "    auxillary_values = create_auxillary_values(s0, N, u)\n",
        "            \n",
        "    # Option values matrix indexed by time, k, j\n",
        "    option_values = np.zeros([N+1, 2*N+1, Nfloor_div_2+1])\n",
        "\n",
        "    # Terminal condition: option values given by terminal payoff\n",
        "\n",
        "    terminal_stock_price = prices[N]\n",
        "    k_range = np.arange(0,2*N + 1)\n",
        "    j_range = np.arange(0, Nfloor_div_2+1)\n",
        "\n",
        "    #find x such that A^N_{k,j} = S_0u**x indexed by k, j\n",
        "    #Note this can produce negative indexes, but these represent impossible situations\n",
        "    #so they will not impact any resulting prices.\n",
        "    auxiliary_variable_index = (k_range//2)[:,np.newaxis] - Nfloor_div_2 + j_range[np.newaxis, :]\n",
        "    option_values[N] = np.maximum(np.take_along_axis(auxillary_values[np.newaxis,:], auxiliary_variable_index, axis = 1) - terminal_stock_price[:,np.newaxis], np.zeros(1)[:,np.newaxis])\n",
        "    \n",
        "            \n",
        "    # Backward induction\n",
        "\n",
        "    # Loop in time\n",
        "    for n in reversed(range(N)):\n",
        "               \n",
        "        #generate the possible values of k_new indexed by current k, stock movement where for the stock movement 0 is down, 1 is no movement, 2 is up.\n",
        "        current_k = np.arange(0,2*n+1)\n",
        "        k_new = np.column_stack([current_k, current_k+1, current_k+2])\n",
        "        floor_k_new_div_2 = k_new//2\n",
        "        floor_k_div_2 = current_k//2\n",
        "        j_range = np.arange(0,Nfloor_div_2+1)\n",
        "        alpha = floor_k_div_2[:, np.newaxis, np.newaxis] + j_range[np.newaxis,:,np.newaxis]\n",
        "        beta = Nfloor_div_2 + k_new[:,np.newaxis, :] - n - 1\n",
        "\n",
        "        #Use the shooting function to generate the possible values of jnew indexed by current k, current j, stock movement where for the stock movement 0 is down, 1 is no movement, 2 is up.\n",
        "        phi_result = -1 * floor_k_new_div_2[:,np.newaxis, :] + np.maximum(alpha, beta)\n",
        "\n",
        "        #calculate the option prices using backward induction\n",
        "        continuation_values = (probabilities[0]* np.take_along_axis(option_values[n+1, 0:2*n + 1, :], phi_result[:,:,0], axis = 1) + probabilities[1]* np.take_along_axis(option_values[n+1, 1:2*n + 2, :], phi_result[:,:,1], axis = 1) + probabilities[2]* np.take_along_axis(option_values[n+1, 2:2*n + 3, :], phi_result[:,:,2], axis = 1))\n",
        "\n",
        "        if american:\n",
        "            j_range = np.arange(0, Nfloor_div_2+1)\n",
        "\n",
        "            #find x such that A^n_{k,j} = S_0u**x indexed again by k, j\n",
        "            auxiliary_variable_index = (np.floor(current_k/2)[:,np.newaxis] - Nfloor_div_2 + j_range[np.newaxis, :]).astype('int')\n",
        "            current_stock_price = prices[n]\n",
        "            exercise_values = np.maximum(np.take_along_axis(auxillary_values[np.newaxis,:], auxiliary_variable_index, axis = 1) - current_stock_price[0:2*n + 1,np.newaxis], np.zeros(1)[:,np.newaxis])\n",
        "            option_values[n][0:2*n+1,0:Nfloor_div_2+1] = np.maximum(exercise_values, np.exp(-1*r*dt)*continuation_values)\n",
        "        else:\n",
        "            option_values[n][0:2*n+1,0:Nfloor_div_2+1] =  np.exp(-1*r*dt)*continuation_values\n",
        "\n",
        "    #print the fair price for the initial time\n",
        "    return option_values[0,0,Nfloor_div_2]"
      ]
    },
    {
      "cell_type": "markdown",
      "metadata": {},
      "source": [
        "We include a less optimised version for reference, the output is the same in both cases"
      ]
    },
    {
      "cell_type": "code",
      "execution_count": 25,
      "metadata": {},
      "outputs": [],
      "source": [
        "def generate_lookback_prices(s0, r, dt, sigma, N, lamda, american = False):\n",
        "    Ndiv2 = N//2\n",
        "    prices, probabilities, u = create_trinomial_model_kamrad_ritchken(s0, r, dt, sigma,  N, lamda)\n",
        "            \n",
        "    # Option values matrix\n",
        "    OptPx = np.zeros([N+1, 2*N+1, Ndiv2+1])\n",
        "    \n",
        "    \n",
        "    # Terminal condition: option values given by terminal payoff\n",
        "    for k in range(2*N+1):\n",
        "        j_range = np.arange(0, Ndiv2+1)\n",
        "        OptPx[N, k, j_range] = np.maximum(s0 * u **(k//2 -N//2 + j_range) - prices[N, k], 0)\n",
        "\n",
        "        \n",
        "\n",
        "    for n in reversed(range(N)):\n",
        " \n",
        "        # Loop across each stock price index k\n",
        "        for k in range(2*n+1):\n",
        "            \n",
        "            j_range = np.arange(0, N//2+1)\n",
        "            \n",
        "            alpha = k//2 + j_range\n",
        "            phi_up = -1 *((k+2)//2) + np.maximum(alpha, N//2 + (k+2) - n - 1)  \n",
        "            phi_mid = -1 *((k+1)//2) + np.maximum(alpha, N//2 + (k+1) - n - 1)\n",
        "            phi_down = -1 * (k//2) + np.maximum(alpha, N//2 + k - n - 1)\n",
        "            \n",
        "            V_up = OptPx[n+1, k+2, phi_up]\n",
        "            V_mid = OptPx[n+1, k+1, phi_mid]\n",
        "            V_down = OptPx[n+1, k, phi_down]\n",
        "            \n",
        "            \n",
        "            \n",
        "            # the backward induction step\n",
        "            if american:\n",
        "                OptPx[n, k, j_range] = np.maximum(np.maximum(s0 * u **(k//2 -N//2 + j_range) - prices[n, k], 0), np.exp(-1*r*dt)*(probabilities[2]*V_up + probabilities[1]*V_mid + probabilities[0]*V_down))\n",
        "            else:\n",
        "                OptPx[n,k,j_range] = np.exp(-1*r*dt)*(probabilities[2]*V_up + probabilities[1]*V_mid + probabilities[0]*V_down)\n",
        "    return OptPx[0,0,N//2]"
      ]
    },
    {
      "cell_type": "markdown",
      "metadata": {
        "id": "XLV7_JhJu_Gj"
      },
      "source": [
        "*Finally let's run the code to obtain the price"
      ]
    },
    {
      "cell_type": "code",
      "execution_count": 50,
      "metadata": {
        "colab": {
          "base_uri": "https://localhost:8080/"
        },
        "id": "Tt6lqppDvBcv",
        "outputId": "2e5a37c5-66f3-4881-a56f-9fb029147449"
      },
      "outputs": [],
      "source": [
        "s0 = 100\n",
        "r = 0.01\n",
        "\n",
        "sigma = 0.2\n",
        "N = np.array([1, 5, 10, 50, 100, 200, 300, 400, 500, 600, 700, 800, 900, 1000]) \n",
        "dt = 1/N\n",
        "lamda = 1.25\n"
      ]
    },
    {
      "cell_type": "code",
      "execution_count": 51,
      "metadata": {},
      "outputs": [],
      "source": [
        "performance_data = pd.DataFrame()\n",
        "\n",
        "iterations = 20\n",
        "for american in [True, False]:\n",
        "    rows = []\n",
        "    index = []\n",
        "    for n, d_t in zip(N,dt):\n",
        "        total_time = 0\n",
        "        for x in range(iterations):\n",
        "            start = time.perf_counter()\n",
        "            price = generate_lookback_prices_optimized(s0, r, d_t, sigma, n, lamda, american)\n",
        "            stop = time.perf_counter()\n",
        "            total_time += stop-start\n",
        "        rows.append([price, total_time/iterations])\n",
        "        index.append((american, n))\n",
        "    \n",
        "    newDataFrame = pd.DataFrame(rows, columns=[ \"Value produced\", \"Running time\"], index = pd.MultiIndex.from_tuples(index, names=[\"American\", \"Number of iterations\"]))\n",
        "    performance_data = performance_data.append(newDataFrame)\n",
        "\n",
        "performance_data\n"
      ]
    },
    {
      "cell_type": "code",
      "execution_count": 47,
      "metadata": {},
      "outputs": [
        {
          "data": {
            "text/plain": [
              "[<matplotlib.lines.Line2D at 0x14fbec6e0d0>]"
            ]
          },
          "execution_count": 47,
          "metadata": {},
          "output_type": "execute_result"
        },
        {
          "data": {
            "image/png": "[encoded data removed]",
            "text/plain": [
              "<Figure size 432x288 with 1 Axes>"
            ]
          },
          "metadata": {
            "needs_background": "light"
          },
          "output_type": "display_data"
        }
      ],
      "source": [
        "american_data = performance_data.loc[True,:]\n",
        "plt.plot(american_data[\"Running time\"])\n"
      ]
    },
    {
      "cell_type": "code",
      "execution_count": 49,
      "metadata": {},
      "outputs": [
        {
          "data": {
            "text/plain": [
              "[<matplotlib.lines.Line2D at 0x14fbed36d60>]"
            ]
          },
          "execution_count": 49,
          "metadata": {},
          "output_type": "execute_result"
        },
        {
          "data": {
            "image/png": "[encoded data removed]",
            "text/plain": [
              "<Figure size 432x288 with 1 Axes>"
            ]
          },
          "metadata": {
            "needs_background": "light"
          },
          "output_type": "display_data"
        }
      ],
      "source": [
        "european_data = performance_data.loc[False,:]\n",
        "plt.plot(european_data[\"Running time\"])\n",
        "parameters, _ = curve_fit(lambda x,a,b: a*x**2 + b*x, european_data.index, european_data[\"Running time\"], p0 = [1,1])\n",
        "x = np.linspace(0,N[-1])\n",
        "y = parameters[0]*x**2 + parameters[1]*x\n",
        "\n",
        "plt.plot(\n",
        "    x,\n",
        "    y)"
      ]
    },
    {
      "cell_type": "code",
      "execution_count": 30,
      "metadata": {},
      "outputs": [
        {
          "ename": "KeyError",
          "evalue": "('True', '1')",
          "output_type": "error",
          "traceback": [
            "\u001b[1;31m---------------------------------------------------------------------------\u001b[0m",
            "\u001b[1;31mKeyError\u001b[0m                                  Traceback (most recent call last)",
            "\u001b[1;32m~\\anaconda3\\lib\\site-packages\\pandas\\core\\indexes\\base.py\u001b[0m in \u001b[0;36mget_loc\u001b[1;34m(self, key, method, tolerance)\u001b[0m\n\u001b[0;32m   3079\u001b[0m             \u001b[1;32mtry\u001b[0m\u001b[1;33m:\u001b[0m\u001b[1;33m\u001b[0m\u001b[1;33m\u001b[0m\u001b[0m\n\u001b[1;32m-> 3080\u001b[1;33m                 \u001b[1;32mreturn\u001b[0m \u001b[0mself\u001b[0m\u001b[1;33m.\u001b[0m\u001b[0m_engine\u001b[0m\u001b[1;33m.\u001b[0m\u001b[0mget_loc\u001b[0m\u001b[1;33m(\u001b[0m\u001b[0mcasted_key\u001b[0m\u001b[1;33m)\u001b[0m\u001b[1;33m\u001b[0m\u001b[1;33m\u001b[0m\u001b[0m\n\u001b[0m\u001b[0;32m   3081\u001b[0m             \u001b[1;32mexcept\u001b[0m \u001b[0mKeyError\u001b[0m \u001b[1;32mas\u001b[0m \u001b[0merr\u001b[0m\u001b[1;33m:\u001b[0m\u001b[1;33m\u001b[0m\u001b[1;33m\u001b[0m\u001b[0m\n",
            "\u001b[1;32mpandas\\_libs\\index.pyx\u001b[0m in \u001b[0;36mpandas._libs.index.IndexEngine.get_loc\u001b[1;34m()\u001b[0m\n",
            "\u001b[1;32mpandas\\_libs\\index.pyx\u001b[0m in \u001b[0;36mpandas._libs.index.IndexEngine.get_loc\u001b[1;34m()\u001b[0m\n",
            "\u001b[1;32mpandas\\_libs\\hashtable_class_helper.pxi\u001b[0m in \u001b[0;36mpandas._libs.hashtable.PyObjectHashTable.get_item\u001b[1;34m()\u001b[0m\n",
            "\u001b[1;32mpandas\\_libs\\hashtable_class_helper.pxi\u001b[0m in \u001b[0;36mpandas._libs.hashtable.PyObjectHashTable.get_item\u001b[1;34m()\u001b[0m\n",
            "\u001b[1;31mKeyError\u001b[0m: ('True', '1')",
            "\nThe above exception was the direct cause of the following exception:\n",
            "\u001b[1;31mKeyError\u001b[0m                                  Traceback (most recent call last)",
            "\u001b[1;32m~\\AppData\\Local\\Temp/ipykernel_20232/3698784803.py\u001b[0m in \u001b[0;36m<module>\u001b[1;34m\u001b[0m\n\u001b[1;32m----> 1\u001b[1;33m \u001b[0mplt\u001b[0m\u001b[1;33m.\u001b[0m\u001b[0mplot\u001b[0m\u001b[1;33m(\u001b[0m\u001b[0mperformance_data\u001b[0m\u001b[1;33m[\u001b[0m\u001b[1;34m'True'\u001b[0m\u001b[1;33m,\u001b[0m\u001b[1;34m'1'\u001b[0m\u001b[1;33m]\u001b[0m\u001b[1;33m,\u001b[0m \u001b[0mperformance_data\u001b[0m\u001b[1;33m[\u001b[0m\u001b[1;34m\"Running time\"\u001b[0m\u001b[1;33m]\u001b[0m\u001b[1;33m)\u001b[0m\u001b[1;33m\u001b[0m\u001b[1;33m\u001b[0m\u001b[0m\n\u001b[0m",
            "\u001b[1;32m~\\anaconda3\\lib\\site-packages\\pandas\\core\\frame.py\u001b[0m in \u001b[0;36m__getitem__\u001b[1;34m(self, key)\u001b[0m\n\u001b[0;32m   3022\u001b[0m             \u001b[1;32mif\u001b[0m \u001b[0mself\u001b[0m\u001b[1;33m.\u001b[0m\u001b[0mcolumns\u001b[0m\u001b[1;33m.\u001b[0m\u001b[0mnlevels\u001b[0m \u001b[1;33m>\u001b[0m \u001b[1;36m1\u001b[0m\u001b[1;33m:\u001b[0m\u001b[1;33m\u001b[0m\u001b[1;33m\u001b[0m\u001b[0m\n\u001b[0;32m   3023\u001b[0m                 \u001b[1;32mreturn\u001b[0m \u001b[0mself\u001b[0m\u001b[1;33m.\u001b[0m\u001b[0m_getitem_multilevel\u001b[0m\u001b[1;33m(\u001b[0m\u001b[0mkey\u001b[0m\u001b[1;33m)\u001b[0m\u001b[1;33m\u001b[0m\u001b[1;33m\u001b[0m\u001b[0m\n\u001b[1;32m-> 3024\u001b[1;33m             \u001b[0mindexer\u001b[0m \u001b[1;33m=\u001b[0m \u001b[0mself\u001b[0m\u001b[1;33m.\u001b[0m\u001b[0mcolumns\u001b[0m\u001b[1;33m.\u001b[0m\u001b[0mget_loc\u001b[0m\u001b[1;33m(\u001b[0m\u001b[0mkey\u001b[0m\u001b[1;33m)\u001b[0m\u001b[1;33m\u001b[0m\u001b[1;33m\u001b[0m\u001b[0m\n\u001b[0m\u001b[0;32m   3025\u001b[0m             \u001b[1;32mif\u001b[0m \u001b[0mis_integer\u001b[0m\u001b[1;33m(\u001b[0m\u001b[0mindexer\u001b[0m\u001b[1;33m)\u001b[0m\u001b[1;33m:\u001b[0m\u001b[1;33m\u001b[0m\u001b[1;33m\u001b[0m\u001b[0m\n\u001b[0;32m   3026\u001b[0m                 \u001b[0mindexer\u001b[0m \u001b[1;33m=\u001b[0m \u001b[1;33m[\u001b[0m\u001b[0mindexer\u001b[0m\u001b[1;33m]\u001b[0m\u001b[1;33m\u001b[0m\u001b[1;33m\u001b[0m\u001b[0m\n",
            "\u001b[1;32m~\\anaconda3\\lib\\site-packages\\pandas\\core\\indexes\\base.py\u001b[0m in \u001b[0;36mget_loc\u001b[1;34m(self, key, method, tolerance)\u001b[0m\n\u001b[0;32m   3080\u001b[0m                 \u001b[1;32mreturn\u001b[0m \u001b[0mself\u001b[0m\u001b[1;33m.\u001b[0m\u001b[0m_engine\u001b[0m\u001b[1;33m.\u001b[0m\u001b[0mget_loc\u001b[0m\u001b[1;33m(\u001b[0m\u001b[0mcasted_key\u001b[0m\u001b[1;33m)\u001b[0m\u001b[1;33m\u001b[0m\u001b[1;33m\u001b[0m\u001b[0m\n\u001b[0;32m   3081\u001b[0m             \u001b[1;32mexcept\u001b[0m \u001b[0mKeyError\u001b[0m \u001b[1;32mas\u001b[0m \u001b[0merr\u001b[0m\u001b[1;33m:\u001b[0m\u001b[1;33m\u001b[0m\u001b[1;33m\u001b[0m\u001b[0m\n\u001b[1;32m-> 3082\u001b[1;33m                 \u001b[1;32mraise\u001b[0m \u001b[0mKeyError\u001b[0m\u001b[1;33m(\u001b[0m\u001b[0mkey\u001b[0m\u001b[1;33m)\u001b[0m \u001b[1;32mfrom\u001b[0m \u001b[0merr\u001b[0m\u001b[1;33m\u001b[0m\u001b[1;33m\u001b[0m\u001b[0m\n\u001b[0m\u001b[0;32m   3083\u001b[0m \u001b[1;33m\u001b[0m\u001b[0m\n\u001b[0;32m   3084\u001b[0m         \u001b[1;32mif\u001b[0m \u001b[0mtolerance\u001b[0m \u001b[1;32mis\u001b[0m \u001b[1;32mnot\u001b[0m \u001b[1;32mNone\u001b[0m\u001b[1;33m:\u001b[0m\u001b[1;33m\u001b[0m\u001b[1;33m\u001b[0m\u001b[0m\n",
            "\u001b[1;31mKeyError\u001b[0m: ('True', '1')"
          ]
        }
      ],
      "source": [
        "plt.plot(performance_data['True','1'], performance_data[\"Running time\"])"
      ]
    }
  ],
  "metadata": {
    "colab": {
      "collapsed_sections": [],
      "machine_shape": "hm",
      "name": "Copy of MATH97110: AsianOptionFSG.ipynb",
      "provenance": []
    },
    "kernelspec": {
      "display_name": "Python 3",
      "name": "python3"
    },
    "language_info": {
      "codemirror_mode": {
        "name": "ipython",
        "version": 3
      },
      "file_extension": ".py",
      "mimetype": "text/x-python",
      "name": "python",
      "nbconvert_exporter": "python",
      "pygments_lexer": "ipython3",
      "version": "3.8.8"
    }
  },
  "nbformat": 4,
  "nbformat_minor": 0
}
