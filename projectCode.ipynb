{
 "cells": [
  {
   "cell_type": "markdown",
   "metadata": {
    "id": "hCFJKy4emIKu"
   },
   "source": [
    "**Numerical Methods Coursework 1**"
   ]
  },
  {
   "cell_type": "code",
   "execution_count": null,
   "metadata": {
    "id": "PKzi3ccDm52Z"
   },
   "outputs": [],
   "source": [
    "import numpy as np\n",
    "import time\n",
    "import pandas as pd\n",
    "import matplotlib.pyplot as plt\n",
    "from scipy.optimize import curve_fit\n",
    "import scipy.stats as si\n",
    "import seaborn as sns"
   ]
  },
  {
   "cell_type": "markdown",
   "metadata": {},
   "source": [
    "# *European and American Options*\n",
    "\n",
    "First specify tree parameterisation in the Kamrad-Ritchken model"
   ]
  },
  {
   "cell_type": "code",
   "execution_count": null,
   "metadata": {},
   "outputs": [],
   "source": [
    "def KRparam(lamda, sigma, dt, r):\n",
    "    u = np.exp(lamda * sigma * np.sqrt(dt))\n",
    "    qu = 1/ (2*lamda**2) + ((r - 0.5*sigma**2) * np.sqrt(dt)) / (2* lamda * sigma)\n",
    "    qm = 1 - 1/lamda**2\n",
    "    qd = 1/ (2*lamda**2) - ((r - 0.5*sigma**2) * np.sqrt(dt)) / (2* lamda * sigma)\n",
    "    if (qu < 0 or qd < 0):\n",
    "        print(\"The value of dt is too large and the probabilities will not be viable, please use a smaller value for dt.\")\n",
    "        return\n",
    "    R = np.exp(r * dt)\n",
    "    return u, qu, qm, qd, R"
   ]
  },
  {
   "cell_type": "markdown",
   "metadata": {},
   "source": [
    "Specify the pricing algorithm"
   ]
  },
  {
   "cell_type": "code",
   "execution_count": null,
   "metadata": {},
   "outputs": [],
   "source": [
    "def TrinomialTreeEuropean(s0, u, qu, qm, qd, R, N, payoff):\n",
    "    #initialize the array for stock price and option value\n",
    "    S = np.zeros((2 * N + 1, N + 1))\n",
    "    V = np.zeros((2 * N + 1, N + 1))\n",
    "    for t in range(N+1):\n",
    "        S[0:2*t+1, t] = s0 * u ** np.arange(t, -t-1, -1)\n",
    "\n",
    "    #set the final payoff of the option\n",
    "    V[:, N] = payoff(S[:,N])\n",
    "\n",
    "    #backward induction\n",
    "    for t in reversed(range(N)):\n",
    "        continuation_val = (qu * V[0:2*t+1, t+1] + qm * V[1:2*t+2, t+1] + qd * V[2: 2*t+3, t+1])/R #R = exp(r * dt)\n",
    "        V[0:2*t+1, t] = continuation_val\n",
    "    \n",
    "    return V\n",
    "\n",
    "\n",
    "\n"
   ]
  },
  {
   "cell_type": "code",
   "execution_count": null,
   "metadata": {},
   "outputs": [],
   "source": [
    "def TrinomialTreeAmerican(s0, u, qu, qm, qd, R, N, payoff):\n",
    "    #initialize the array for stock price and option value\n",
    "    S = np.zeros((2 * N + 1, N + 1))\n",
    "    V = np.zeros((2 * N + 1, N + 1))\n",
    "    for t in range(N+1):\n",
    "        S[0:2*t+1, t] = s0 * u ** np.arange(t, -t-1, -1)\n",
    "\n",
    "    #set the final payoff of the option\n",
    "    V[:, N] = payoff(S[:,N])\n",
    "\n",
    "    #backward induction\n",
    "    for t in reversed(range(N)):\n",
    "        continuation_val = (qu * V[0:2*t+1, t+1] + qm * V[1:2*t+2, t+1] + qd * V[2: 2*t+3, t+1])/R #R = exp(r * dt)\n",
    "        V[0:2*t+1, t] = np.maximum(payoff(S[0:2*t+1, t]), continuation_val)\n",
    "        \n",
    "    \n",
    "    return (V, continuation_val[0])"
   ]
  },
  {
   "cell_type": "markdown",
   "metadata": {},
   "source": [
    "*Implementation of the algorithm for different values of the parameters for European call option*\n",
    "\n",
    "\n",
    "In part 1. (b), vary $N$, $\\lambda$ and $S_0$"
   ]
  },
  {
   "cell_type": "code",
   "execution_count": null,
   "metadata": {},
   "outputs": [],
   "source": [
    "#========1.(b)==========\n",
    "s0, r, T, sigma, K = 100, 0.01, 1, 0.2, 100 \n",
    "lamda_val = np.array([1,1.25, 1.5, 1.75])\n",
    "CallPayoff = lambda x: np.maximum(x - K,0)\n",
    "\n",
    "def varyNandlamda (s0, N_val, r, T, sigma, K):\n",
    "    TriTreePrices = np.zeros((len(N_val), len(lamda_val)))\n",
    "    for i in range(len(lamda_val)):\n",
    "        lamda = lamda_val[i]\n",
    "        for j in range(len(N_val)):\n",
    "            N = N_val[j]\n",
    "            u, qu, qm, qd, R = KRparam(lamda, sigma, T/N, r)\n",
    "            V = TrinomialTreeEuropean(s0, u, qu, qm, qd, R, N, CallPayoff)\n",
    "            TriTreePrices[j,i] = V[0,0]\n",
    "\n",
    "    European_V = pd.DataFrame(TriTreePrices, columns = [r'$\\lambda$=1',r'$\\lambda$=1.25',r'$\\lambda$=1.5',r'$\\lambda$=1.75'], index = N_val, )\n",
    "    bscall = BS_call(s0, K, T, r, sigma)\n",
    "\n",
    "    return European_V, bscall\n",
    "\n",
    "        \n"
   ]
  },
  {
   "cell_type": "markdown",
   "metadata": {},
   "source": [
    "Plot the trinomial tree prices against $N$ for different $\\lambda$, and compare with the value given by the Black-Scholes formula"
   ]
  },
  {
   "cell_type": "code",
   "execution_count": null,
   "metadata": {},
   "outputs": [],
   "source": [
    "def BS_call(S, K, T, r, sigma):\n",
    "        \n",
    "    d1 = (np.log(S / K) + (r + 0.5 * sigma ** 2) * T) / (sigma * np.sqrt(T))\n",
    "    d2 = (np.log(S / K) + (r - 0.5 * sigma ** 2) * T) / (sigma * np.sqrt(T))\n",
    "    call = (S * si.norm.cdf(d1, 0.0, 1.0) - K * np.exp(-r * T) * si.norm.cdf(d2, 0.0, 1.0))\n",
    "    \n",
    "    return call\n",
    "\n",
    "#make the plot\n",
    "def plotagainstN (s0, N_val):\n",
    "     \n",
    "    plt.figure()\n",
    "    European_V, bscall = varyNandlamda( s0, N_val, r, T, sigma, K )\n",
    "    ax1 = European_V.plot(title = r'Trinomial Tree Prices vs N, $S_0 =$ {}'.format(s0),\n",
    "                        figsize = (15,10),fontsize = 20, xlim = [0,len(N_val)+1])\n",
    "    ax1.title.set_size(25)\n",
    "    ax1.axhline(y = bscall , color = 'k', linewidth = 2, linestyle = '-',label = 'BS call')\n",
    "    ax1.set_xlabel('Number of Periods N',fontsize = 20)\n",
    "    ax1.set_ylabel('Option Prices', fontsize = 20)\n",
    "    ax1.legend(loc=1,fontsize=20)\n",
    "    plt.savefig('plotoverN{}_{}.pdf'.format(s0,len(N_val)+1))\n",
    "    plt.show()\n",
    "\n",
    "plotagainstN(100,np.arange(2,501))\n",
    "plotagainstN(90,np.arange(2,201))\n",
    "plotagainstN(100,np.arange(2,201))\n",
    "plotagainstN(110,np.arange(2,201))\n"
   ]
  },
  {
   "cell_type": "markdown",
   "metadata": {},
   "source": [
    "In part 1.(c), fix $N = 500$, $K =100$ and explore the difference between trinomial tree price and BS price for different values of $S_0$ and $\\lambda$."
   ]
  },
  {
   "cell_type": "code",
   "execution_count": null,
   "metadata": {},
   "outputs": [],
   "source": [
    "#========1.(c)=======\n",
    "r, T, sigma, K ,N =  0.01, 1, 0.2, 100, 500\n",
    "s0_min = 70\n",
    "s0_max = 130\n",
    "s0_val = np.linspace(s0_min,s0_max,71)\n",
    "price_diff = np.zeros((len(lamda_val), len(s0_val)))\n",
    "\n",
    "for i in range(len(lamda_val)):\n",
    "    lamda = lamda_val[i]\n",
    "    u, qu, qm, qd, R = KRparam(lamda, sigma, T/N, r)\n",
    "    for j in range(len(s0_val)):\n",
    "        s0 = s0_val[j]\n",
    "        V = TrinomialTreeEuropean(s0, u, qu, qm, qd, R, N, CallPayoff)\n",
    "        bscall = BS_call(s0, K, T, r, sigma)\n",
    "        price_diff[i,j] = (V[0,0] - bscall)*1000  #we magnify the difference by 10^3 for better accuracy\n",
    "price_diff_table = pd.DataFrame(price_diff.T, index = s0_val, columns = [r'$\\lambda$=1',r'$\\lambda$=1.25',r'$\\lambda$=1.5',r'$\\lambda$=1.75'] )\n",
    "\n",
    "        \n",
    "        \n",
    "\n"
   ]
  },
  {
   "cell_type": "code",
   "execution_count": null,
   "metadata": {},
   "outputs": [],
   "source": [
    "price_diff_table"
   ]
  },
  {
   "cell_type": "code",
   "execution_count": null,
   "metadata": {},
   "outputs": [],
   "source": [
    "abs_diff_table = abs(price_diff_table)\n",
    "abs_diff = abs(price_diff_table).mean(axis = 0)\n",
    "abs_diff"
   ]
  },
  {
   "cell_type": "code",
   "execution_count": null,
   "metadata": {},
   "outputs": [],
   "source": [
    "relative_mag = abs_diff_table.iloc[:,1] > abs_diff_table.iloc[:,2]\n",
    "relative_mag.mean()\n"
   ]
  },
  {
   "cell_type": "markdown",
   "metadata": {},
   "source": [
    "*Implementation of the algorithm for American Call Options*\n",
    "\n",
    "In part 2.(b), compare the time-zero value of time-zero value of an American call option and its intrinsic value agaiinst different initial stock prices $S_0$."
   ]
  },
  {
   "cell_type": "code",
   "execution_count": null,
   "metadata": {},
   "outputs": [],
   "source": [
    "r, T, sigma, K ,N, lamda =  0.01, 1, 0.2, 100, 500, 1.25\n",
    "u, qu, qm, qd, R = KRparam(lamda, sigma, T/N, r)\n",
    "s0_min = 1\n",
    "s0_max = 150\n",
    "s0_val = np.linspace(s0_min,s0_max,151)\n",
    "\n",
    "American_call_intrinsic = CallPayoff(s0_val)\n",
    "American_call_V = np.array([TrinomialTreeAmerican(s0, u, qu, qm, qd, R, N, CallPayoff)[0][0,0] for s0 in s0_val])\n",
    "data = np.column_stack([American_call_intrinsic, American_call_V])\n",
    "early_exercise_data_call = pd.DataFrame(data= data, index = s0_val, columns = ['American call intrinsic value', 'American call option value'])\n",
    "\n",
    "fig, ax = plt.subplots(figsize = (20,10))\n",
    "ax.plot(s0_val, early_exercise_data_call['American call option value'], color = 'b', label = 'Value from Trinomial Tree Model')\n",
    "ax.plot(s0_val, early_exercise_data_call['American call intrinsic value'], color = 'r', label = \"Intrinsic Value\")\n",
    "ax.set_xlabel('Initial Stock Price', fontsize = 20)\n",
    "ax.set_ylabel('Option Values', fontsize = 20)\n",
    "ax.set_title('Time-zero values of American call option', fontsize = 25)\n",
    "plt.xticks(np.arange(0,160,10),fontsize = 20)\n",
    "plt.yticks(fontsize = 20)\n",
    "ax.legend(loc = 2, fontsize = 20)\n",
    "plt.savefig('american_call.pdf')\n"
   ]
  },
  {
   "cell_type": "code",
   "execution_count": null,
   "metadata": {},
   "outputs": [],
   "source": [
    "100/u**500\n"
   ]
  },
  {
   "cell_type": "markdown",
   "metadata": {},
   "source": [
    "In part 2.(c), we work with American put options and explore the early exercise strategy when volatility $\\sigma$ and interest rate $r$ change.\n"
   ]
  },
  {
   "cell_type": "code",
   "execution_count": null,
   "metadata": {},
   "outputs": [],
   "source": [
    "r, T, sigma, K ,N, lamda =  0.01, 1, 0.2, 100, 500, 1.25\n",
    "u, qu, qm, qd, R = KRparam(lamda, sigma, T/N, r)\n",
    "s0_min = 1\n",
    "s0_max = 150\n",
    "s0_val = np.linspace(s0_min,s0_max,200)\n",
    "\n",
    "PutPayoff = lambda x : np.maximum(K - x, 0)\n",
    "A_Put_intrinsic = PutPayoff(s0_val)\n",
    "A_Put_V = np.array([TrinomialTreeAmerican(s0, u, qu, qm, qd, R, N, PutPayoff)[0][0,0] for s0 in s0_val])\n",
    "data = np.column_stack([A_Put_intrinsic.T, A_Put_V.T])\n",
    "early_exercise_data_put = pd.DataFrame(data= data, index = s0_val, columns = ['American put intrinsic value', 'American put option value'])\n",
    "fig, ax = plt.subplots(figsize = (20,10))\n",
    "ax.plot(s0_val, early_exercise_data_put['American put option value'], color = 'b', label = 'Value from Trinomial Tree Model')\n",
    "ax.plot(s0_val, early_exercise_data_put['American put intrinsic value'], color = 'r', label = \"Intrinsic Value\")\n",
    "ax.set_xlabel('Initial Stock Price', fontsize = 20)\n",
    "ax.set_ylabel('Option Values', fontsize = 20)\n",
    "ax.set_title('Time-zero values of American put option', fontsize = 25)\n",
    "plt.xticks(np.arange(0,160,10),fontsize = 20)\n",
    "plt.yticks(fontsize = 20)\n",
    "ax.legend(fontsize = 20)\n",
    "\n",
    "plt.savefig(\"american_put_intrinsic_v_trinomial.eps\")"
   ]
  },
  {
   "cell_type": "code",
   "execution_count": null,
   "metadata": {},
   "outputs": [],
   "source": [
    "fig, ax = plt.subplots(figsize = (20,10))\n",
    "plt.plot(early_exercise_data_put[0:100]['American put option value'] - early_exercise_data_put[0:100]['American put intrinsic value'])\n",
    "ax.set_xlabel('Initial Stock Price', fontsize = 20)\n",
    "ax.set_ylabel('Option Value - Intrinsic Value', fontsize = 20)\n",
    "ax.set_title('Difference between time-zero values of American put option', fontsize = 25)\n",
    "plt.xticks(np.arange(0,110,10),fontsize = 20)\n",
    "plt.yticks(fontsize = 20)\n",
    "ax.axhline(0, color = 'black')\n",
    "plt.savefig(\"ValueDifferencePut.eps\")"
   ]
  },
  {
   "cell_type": "code",
   "execution_count": null,
   "metadata": {},
   "outputs": [],
   "source": [
    "def find_early_exercise_cutoff(r, T, sigma, K ,N, lamda):\n",
    "    u, qu, qm, qd, R = KRparam(lamda, sigma, T/N, r)\n",
    "    s0_min = 1\n",
    "    s0_max = 100\n",
    "    s0_val = np.linspace(s0_min,s0_max,200)\n",
    "\n",
    "    PutPayoff = lambda x : np.maximum(K - x, 0)\n",
    "    A_Put_intrinsic = PutPayoff(s0_val)\n",
    "    A_Put_V = np.array([TrinomialTreeAmerican(s0, u, qu, qm, qd, R, N, PutPayoff)[0][0,0] for s0 in s0_val])\n",
    "    \n",
    "    difference = pd.Series(A_Put_V - A_Put_intrinsic, index=s0_val)\n",
    "\n",
    "    if (difference.size == 0):\n",
    "        return -1\n",
    "    return difference[difference > 0].index[0]\n",
    "    "
   ]
  },
  {
   "cell_type": "code",
   "execution_count": null,
   "metadata": {},
   "outputs": [],
   "source": [
    "\n",
    "find_early_exercise_cutoff(0.01, T, 0.2, K ,N, lamda)"
   ]
  },
  {
   "cell_type": "code",
   "execution_count": null,
   "metadata": {},
   "outputs": [],
   "source": [
    "sigma_range = np.linspace(0.01, 0.3, 30)\n",
    "r_range = np.linspace(0, 0.1, 101)\n",
    "cutoff_points = np.zeros([101, 30])\n",
    "\n",
    "for s_index, s in enumerate(sigma_range):\n",
    "    print(s)\n",
    "    for r_index, r_temp in enumerate(r_range):\n",
    "        cutoff = find_early_exercise_cutoff(r_temp, T, s, K ,N, lamda)\n",
    "        cutoff_points[r_index, s_index] = cutoff\n",
    "\n",
    "cutoff_df = pd.DataFrame(cutoff_points)\n",
    "cutoff_df.to_pickle(\"cutoff_dataframe\")"
   ]
  },
  {
   "cell_type": "code",
   "execution_count": null,
   "metadata": {},
   "outputs": [],
   "source": [
    "cutoff_df = pd.read_pickle(\"cutoff_dataframe\")\n",
    "cutoff_df.index=np.round(r_range,3)\n",
    "cutoff_df.columns = np.round(sigma_range,2)"
   ]
  },
  {
   "cell_type": "code",
   "execution_count": null,
   "metadata": {},
   "outputs": [],
   "source": [
    "ax = sns.heatmap(cutoff_df[0.001:], yticklabels= 10)\n",
    "ax.set_ylim([0,101])\n",
    "ax.set_xlabel(\"$\\sigma$\", fontsize=13)\n",
    "ax.set_ylabel(\"$r$\", fontsize=13)\n",
    "plt.savefig(\"heatmap.eps\", bbox_inches = 'tight',pad_inches = 0.07)\n",
    "\n"
   ]
  },
  {
   "cell_type": "markdown",
   "metadata": {},
   "source": [
    "Question 3)"
   ]
  },
  {
   "cell_type": "markdown",
   "metadata": {
    "id": "tXwv9u-Qmq0s"
   },
   "source": [
    "Firstly we define the Kamrad-Ritchken model."
   ]
  },
  {
   "cell_type": "code",
   "execution_count": null,
   "metadata": {},
   "outputs": [],
   "source": [
    "\n",
    "def create_trinomial_model_kamrad_ritchken(s0, r, dt, sigma, N, lamda):\n",
    "    #model parameters\n",
    "    \n",
    "    u, qu, qm, qd, R = KRparam(lamda, sigma, dt, r)\n",
    "\n",
    "    if (qu < 0 or qd < 0):\n",
    "        print(\"The value of dt is too large and the probabilities will not be viable, please use a smaller value for dt.\")\n",
    "        return\n",
    "\n",
    "    # Set up the tree via S[n,k] = s0 * u^(k-n)\n",
    "    prices = np.zeros((N+1, 2*N+1))\n",
    "    for t in range(N+1):\n",
    "        prices[t, 0:2*t+1] = s0 * u**np.arange(t, -t-1, -1)\n",
    "\n",
    "    return (prices, np.array([qd, qm, qu]), u)\n",
    "\n",
    "    \n",
    "        "
   ]
  },
  {
   "cell_type": "markdown",
   "metadata": {},
   "source": [
    "We create an array of prices for $A^n_j$ noticing that these prices have no dependence on $n$."
   ]
  },
  {
   "cell_type": "code",
   "execution_count": null,
   "metadata": {
    "id": "WhXvhlgYogKK"
   },
   "outputs": [],
   "source": [
    "def create_auxillary_values(s0, N, u):\n",
    "    indices = np.arange(0,N+1)\n",
    "    AValues = s0*u**indices\n",
    "    return AValues"
   ]
  },
  {
   "cell_type": "markdown",
   "metadata": {
    "id": "Z615Hoq9tuB1"
   },
   "source": [
    "Next we define the funtion for generating the prices by backward induction"
   ]
  },
  {
   "cell_type": "code",
   "execution_count": null,
   "metadata": {
    "id": "6TAENPU7L_ie"
   },
   "outputs": [],
   "source": [
    "def generate_lookback_prices_optimized(s0, r, dt, sigma, N, lamda, american = False):\n",
    "    Nfloor_div_2 = N//2     \n",
    "    prices, probabilities, u = create_trinomial_model_kamrad_ritchken(s0, r, dt, sigma,  N, lamda)\n",
    "    auxillary_values = create_auxillary_values(s0, N, u)\n",
    "            \n",
    "    # Option values matrix indexed by time, k, j\n",
    "    option_values = np.zeros([N+1, 2*N+1, Nfloor_div_2+1])\n",
    "\n",
    "    # Terminal condition: option values given by terminal payoff\n",
    "\n",
    "    terminal_stock_price = prices[N]\n",
    "    k_range = np.arange(0,2*N + 1)\n",
    "    j_range = np.arange(0, Nfloor_div_2+1)\n",
    "\n",
    "    #find x such that A^N_{k,j} = S_0u**x indexed by k, j\n",
    "    #Note this can produce negative indexes, but these represent impossible situations\n",
    "    #so they will not impact any resulting prices.\n",
    "    auxiliary_variable_index = N-((k_range+1)//2)[:,np.newaxis] - Nfloor_div_2 + j_range[np.newaxis, :]\n",
    "    option_values[N] = np.maximum(np.take_along_axis(auxillary_values[np.newaxis,:], auxiliary_variable_index, axis = 1) - terminal_stock_price[:,np.newaxis], np.zeros(1)[:,np.newaxis])\n",
    "\n",
    "\n",
    "    # Backward induction\n",
    "    # Loop in time\n",
    "    for n in reversed(range(N)):\n",
    "        #generate the possible values of k_new indexed by current k, stock movement where for the stock movement 0 is down, 1 is no movement, 2 is up.\n",
    "        current_k = np.arange(0,2*n+1)\n",
    "        k_new = np.column_stack([current_k+2, current_k+1, current_k])\n",
    "        floor_k_new_div_2 = k_new//2\n",
    "        ceil_k_div_2 = (current_k+1)//2\n",
    "        floor_k_div_2 = current_k//2\n",
    "        j_range = np.arange(Nfloor_div_2-n//2, Nfloor_div_2+1)\n",
    "        alpha = (k_new[:,np.newaxis, :]+1)//2 - 1 - ceil_k_div_2[:, np.newaxis, np.newaxis] + j_range[np.newaxis,:,np.newaxis]\n",
    "        beta = Nfloor_div_2 - floor_k_new_div_2[:,np.newaxis, :]\n",
    "\n",
    "        #Use the shooting function to generate the possible values of jnew indexed by current k, current j, stock movement where for the stock movement 0 is down, 1 is no movement, 2 is up.\n",
    "        phi_result = np.maximum(alpha, beta)\n",
    "\n",
    "        #calculate the option prices using backward induction\n",
    "        v_down = np.take_along_axis(option_values[n+1, current_k+2, :], phi_result[:,:,0], axis = 1)\n",
    "        v_mid = np.take_along_axis(option_values[n+1, current_k + 1, :], phi_result[:,:,1], axis = 1)\n",
    "        v_up = np.take_along_axis(option_values[n+1, current_k, :], phi_result[:,:,2], axis = 1)\n",
    "        discounted_continuation_values = np.exp(-1*r*dt)*(probabilities[0]* v_down +  probabilities[1]* v_mid + probabilities[2]* v_up)\n",
    "\n",
    "        if american:\n",
    "\n",
    "            #find x such that A^n_{k,j} = S_0u**x indexed again by k, j\n",
    "            auxiliary_variable_index = n-((current_k+1)//2)[:,np.newaxis] - Nfloor_div_2 + j_range[np.newaxis, :]\n",
    "            \n",
    "            current_stock_price = prices[n]\n",
    "            exercise_values = np.maximum(np.take_along_axis(auxillary_values[np.newaxis,:], auxiliary_variable_index, axis = 1) - current_stock_price[current_k, np.newaxis], np.zeros(1)[:,np.newaxis])\n",
    "            option_values[n][0:2*n+1,j_range] = np.maximum(exercise_values, discounted_continuation_values)\n",
    "        else:\n",
    "            option_values[n][0:2*n+1,j_range] =  discounted_continuation_values\n",
    "\n",
    "\n",
    "    #print the fair price for the initial time\n",
    "    return option_values[0,0,Nfloor_div_2]"
   ]
  },
  {
   "cell_type": "code",
   "execution_count": null,
   "metadata": {},
   "outputs": [],
   "source": [
    "generate_lookback_prices_optimized(100, 0, 1, 0.1, 3, 1.25, False)"
   ]
  },
  {
   "cell_type": "markdown",
   "metadata": {},
   "source": [
    "We include a less optimised version for reference, the output is the same in both cases"
   ]
  },
  {
   "cell_type": "code",
   "execution_count": null,
   "metadata": {},
   "outputs": [],
   "source": [
    "def generate_lookback_prices(s0, r, dt, sigma, N, lamda, american = False):\n",
    "    Ndiv2 = N//2\n",
    "    prices, probabilities, u = create_trinomial_model_kamrad_ritchken(s0, r, dt, sigma,  N, lamda)\n",
    "            \n",
    "    # Option values matrix\n",
    "    OptPx = np.zeros([N+1, 2*N+1, Ndiv2+1])\n",
    "    \n",
    "    \n",
    "    # Terminal condition: option values given by terminal payoff\n",
    "    for k in range(2*N+1):\n",
    "        j_range = np.arange(0, Ndiv2+1)\n",
    "        OptPx[N, k, j_range] = np.maximum(s0 * u **(N - (k+1)//2 -N//2 + j_range) - prices[N, k], 0)\n",
    "\n",
    "        \n",
    "    for n in reversed(range(N)):\n",
    "        # Loop across each stock price index k\n",
    "        for k in range(2*n+1):\n",
    "            \n",
    "            j_range = np.arange(0, N//2+1)\n",
    "            \n",
    "            alpha_up = (k+1)//2 - 1 - (k+1)//2 + j_range\n",
    "            alpha_mid = (k+2)//2 - 1 - (k+1)//2 + j_range\n",
    "            alpha_down = (k+3)//2 - 1 - (k+1)//2 + j_range\n",
    "\n",
    "            beta_up = N//2-k//2\n",
    "            beta_mid = N//2-(k+1)//2\n",
    "            beta_down = N//2-(k+2)//2\n",
    "\n",
    "            phi_up = np.maximum(alpha_up, beta_up)  \n",
    "            phi_mid = np.maximum(alpha_mid, beta_mid)\n",
    "            phi_down = np.maximum(alpha_down, beta_down)\n",
    "            \n",
    "            V_up = OptPx[n+1, k, phi_up]\n",
    "            V_mid = OptPx[n+1, k+1, phi_mid]\n",
    "            V_down = OptPx[n+1, k+2, phi_down]\n",
    "            \n",
    "            \n",
    "            \n",
    "            # the backward induction step\n",
    "            if american:\n",
    "                OptPx[n, k, j_range] = np.maximum(np.maximum(s0 *u **(n - (k+1)//2 -N//2 + j_range) - prices[n, k], 0), np.exp(-1*r*dt)*(probabilities[2]*V_up + probabilities[1]*V_mid + probabilities[0]*V_down))\n",
    "            else:\n",
    "                OptPx[n,k,j_range] = np.exp(-1*r*dt)*(probabilities[2]*V_up + probabilities[1]*V_mid + probabilities[0]*V_down)\n",
    "\n",
    "            \n",
    "        \n",
    "    return OptPx[0,0,N//2]"
   ]
  },
  {
   "cell_type": "markdown",
   "metadata": {
    "id": "XLV7_JhJu_Gj"
   },
   "source": [
    "*Finally let's run the code to obtain the price"
   ]
  },
  {
   "cell_type": "code",
   "execution_count": null,
   "metadata": {
    "colab": {
     "base_uri": "https://localhost:8080/"
    },
    "id": "Tt6lqppDvBcv",
    "outputId": "2e5a37c5-66f3-4881-a56f-9fb029147449"
   },
   "outputs": [],
   "source": [
    "s0 = 100\n",
    "r = 0.01\n",
    "\n",
    "sigma = 0.2\n",
    "N = np.array([1, 5, 10, 50, 100, 200, 300, 400, 500, 600, 700, 800, 900, 1000, 1100, 1200, 1300, 1400, 1500]) \n",
    "dt = 1/N\n",
    "lamda = 1.25\n"
   ]
  },
  {
   "cell_type": "code",
   "execution_count": null,
   "metadata": {},
   "outputs": [],
   "source": [
    "generate_lookback_prices_optimized(s0, r, 1/700, sigma, 700, lamda, False)\n",
    "performance_data_optimized = pd.DataFrame()\n",
    "\n",
    "iterations = 10\n",
    "for american in [True, False]:\n",
    "    rows = []\n",
    "    index = []\n",
    "    for n, d_t in zip(reversed(N),reversed(dt)):\n",
    "        total_time = 0\n",
    "        for x in range(iterations):\n",
    "            local_iterations = 0\n",
    "            try:\n",
    "                start = time.perf_counter_ns()\n",
    "            \n",
    "                price = generate_lookback_prices_optimized(s0, r, d_t, sigma, n, lamda, american)\n",
    "                stop = time.perf_counter_ns()\n",
    "                total_time += stop-start\n",
    "                local_iterations += 1\n",
    "            except Exception:\n",
    "                print(\"faied for size, iteration: \", n,\" \", x)\n",
    "        if local_iterations > 0:\n",
    "            rows.append([price, total_time/local_iterations])\n",
    "            index.append((american, n))\n",
    "    \n",
    "    newDataFrame = pd.DataFrame(reversed(rows), columns=[ \"Value produced\", \"Running time\"], index = pd.MultiIndex.from_tuples(reversed(index), names=[\"American\", \"Number of iterations\"]))\n",
    "    performance_data_optimized = performance_data_optimized.append(newDataFrame)\n",
    "\n",
    "performance_data_optimized\n"
   ]
  },
  {
   "cell_type": "code",
   "execution_count": null,
   "metadata": {},
   "outputs": [],
   "source": [
    "\n",
    "performance_data_optimized[\"Running time\"]=performance_data_optimized[\"Running time\"]/10**9\n",
    "performance_data_optimized.to_pickle(\"perf_data_optimized\")\n"
   ]
  },
  {
   "cell_type": "code",
   "execution_count": null,
   "metadata": {},
   "outputs": [],
   "source": [
    "generate_lookback_prices(s0, r, 1/700, sigma, 700, lamda, False)\n",
    "\n",
    "performance_data_simple = pd.DataFrame()\n",
    "\n",
    "iterations = 10\n",
    "for american in [True, False]:\n",
    "    rows = []\n",
    "    index = []\n",
    "    for n, d_t in zip(reversed(N),reversed(dt)):\n",
    "        total_time = 0\n",
    "        for x in range(iterations):\n",
    "            local_iterations = 0\n",
    "            try:\n",
    "                start = time.perf_counter_ns()\n",
    "            \n",
    "                price = generate_lookback_prices(s0, r, d_t, sigma, n, lamda, american)\n",
    "                stop = time.perf_counter_ns()\n",
    "                total_time += stop-start\n",
    "                local_iterations += 1\n",
    "            except Exception:\n",
    "                print(\"faied for size, iteration: \", n,\" \", x)\n",
    "        if local_iterations > 0:\n",
    "            rows.append([price, total_time/local_iterations])\n",
    "            index.append((american, n))\n",
    "    \n",
    "    newDataFrame = pd.DataFrame(reversed(rows), columns=[ \"Value produced\", \"Running time\"], index = pd.MultiIndex.from_tuples(reversed(index), names=[\"American\", \"Number of iterations\"]))\n",
    "    performance_data_simple = performance_data_simple.append(newDataFrame)\n",
    "\n",
    "performance_data_simple"
   ]
  },
  {
   "cell_type": "code",
   "execution_count": null,
   "metadata": {},
   "outputs": [],
   "source": [
    "american_runtime = performance_data_optimized.loc[True,:]\n",
    "european_runtime = performance_data_optimized.loc[False,:]\n",
    "plt.scatter(american_runtime.index, american_runtime[\"Running time\"], label = \"American option\")\n",
    "plt.scatter(european_runtime.index, european_runtime[\"Running time\"], label = \"European option\")\n",
    "parameters_american, _ = curve_fit(lambda x,a,b,c: a*x**3 + b*x**2 + c*x, american_runtime.index, american_runtime[\"Running time\"])\n",
    "parameters_european, _ = curve_fit(lambda x,a,b,c: a*x**3 + b*x**2 + c*x, european_runtime.index, european_runtime[\"Running time\"])\n",
    "x = np.linspace(0,N[-1])\n",
    "y_american = parameters_american[0]*x**3 + parameters_american[1]*x**2 + parameters_american[2]*x\n",
    "y_european = parameters_european[0]*x**3 + parameters_european[1]*x**2 + parameters_european[2]*x\n",
    "plt.xlabel(\"Number of iterations\")\n",
    "plt.ylabel(\"Algorithm running time (s)\")\n",
    "plt.legend()\n",
    "\n",
    "plt.plot(\n",
    "    x,\n",
    "    y_american)\n",
    "plt.plot(\n",
    "x,\n",
    "y_european)\n",
    "\n",
    "plt.savefig(\"algo_runtime.eps\")\n"
   ]
  },
  {
   "cell_type": "code",
   "execution_count": null,
   "metadata": {},
   "outputs": [],
   "source": [
    "american_value = performance_data_optimized.loc[True,:]\n",
    "european_value = performance_data_optimized.loc[False,:]\n",
    "plt.plot(american_value.index, american_value[\"Value produced\"], label = \"American option\")\n",
    "plt.scatter(american_value.index, american_value[\"Value produced\"])\n",
    "plt.plot(european_runtime.index, european_value[\"Value produced\"], label = \"European option\")\n",
    "plt.scatter(european_runtime.index, european_value[\"Value produced\"])\n",
    "x = np.linspace(0,N[-1])\n",
    "\n",
    "plt.xlabel(\"Number of iterations (N)\")\n",
    "plt.ylabel(\"Value estimated by algorithm\")\n",
    "plt.legend()\n",
    "#plt.ylim(3,8)\n",
    "#plt.yticks(np.arange(3,8.5,0.5))\n",
    "plt.savefig(\"algoConvergence.eps\")"
   ]
  }
 ],
 "metadata": {
  "colab": {
   "collapsed_sections": [],
   "machine_shape": "hm",
   "name": "Copy of MATH97110: AsianOptionFSG.ipynb",
   "provenance": []
  },
  "kernelspec": {
   "display_name": "Python 3 (ipykernel)",
   "language": "python",
   "name": "python3"
  },
  "language_info": {
   "codemirror_mode": {
    "name": "ipython",
    "version": 3
   },
   "file_extension": ".py",
   "mimetype": "text/x-python",
   "name": "python",
   "nbconvert_exporter": "python",
   "pygments_lexer": "ipython3",
   "version": "3.8.8"
  }
 },
 "nbformat": 4,
 "nbformat_minor": 1
}
